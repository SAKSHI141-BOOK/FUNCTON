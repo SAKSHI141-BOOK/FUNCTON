{
 "cells": [
  {
   "cell_type": "code",
   "execution_count": 1,
   "metadata": {
    "executionInfo": {
     "elapsed": 932,
     "status": "ok",
     "timestamp": 1739423862083,
     "user": {
      "displayName": "Sakshi Giradkar",
      "userId": "06565980006052859969"
     },
     "user_tz": -330
    },
    "id": "AwYlmDg7lTYs"
   },
   "outputs": [],
   "source": [
    "#function"
   ]
  },
  {
   "cell_type": "code",
   "execution_count": null,
   "metadata": {
    "colab": {
     "background_save": true
    },
    "id": "T5OcnPSgo3sU"
   },
   "outputs": [],
   "source": [
    "HYPER TEXT MARKUP LANGUAGE"
   ]
  },
  {
   "cell_type": "markdown",
   "metadata": {
    "id": "GHzjopbmmT25"
   },
   "source": [
    "HYPER TEXT MARKUP LANGUAGE"
   ]
  },
  {
   "cell_type": "markdown",
   "metadata": {
    "id": "wGWiDWlTwG8I"
   },
   "source": [
    "1. WHAT IS html?\n",
    "--> hyper text marcup language."
   ]
  },
  {
   "cell_type": "code",
   "execution_count": null,
   "metadata": {
    "id": "XLLY9bX0xGcy"
   },
   "outputs": [],
   "source": [
    "ghntjrytgnhgy\n",
    "gnjgh"
   ]
  },
  {
   "cell_type": "markdown",
   "metadata": {
    "id": "2rolcCj7xG5w"
   },
   "source": []
  },
  {
   "cell_type": "markdown",
   "metadata": {},
   "source": [
    "hdhhx"
   ]
  },
  {
   "cell_type": "code",
   "execution_count": null,
   "metadata": {},
   "outputs": [],
   "source": [
    "fymjtdesu6r6ngg"
   ]
  }
 ],
 "metadata": {
  "colab": {
   "authorship_tag": "ABX9TyOLXYKn0CgQWR3Xcq1aJhiY",
   "provenance": []
  },
  "kernelspec": {
   "display_name": "Python 3",
   "name": "python3"
  },
  "language_info": {
   "name": "python"
  }
 },
 "nbformat": 4,
 "nbformat_minor": 0
}
